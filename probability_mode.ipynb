{
  "nbformat": 4,
  "nbformat_minor": 0,
  "metadata": {
    "colab": {
      "provenance": [],
      "authorship_tag": "ABX9TyOeVR7R3zkCAMKZcgpYwQ+Z",
      "include_colab_link": true
    },
    "kernelspec": {
      "name": "python3",
      "display_name": "Python 3"
    },
    "language_info": {
      "name": "python"
    }
  },
  "cells": [
    {
      "cell_type": "markdown",
      "metadata": {
        "id": "view-in-github",
        "colab_type": "text"
      },
      "source": [
        "<a href=\"https://colab.research.google.com/github/Sudhaganisrinidhi/srinidhi/blob/main/probability_mode.ipynb\" target=\"_parent\"><img src=\"https://colab.research.google.com/assets/colab-badge.svg\" alt=\"Open In Colab\"/></a>"
      ]
    },
    {
      "cell_type": "code",
      "execution_count": 1,
      "metadata": {
        "colab": {
          "base_uri": "https://localhost:8080/"
        },
        "id": "cgpPwjbVyepZ",
        "outputId": "5ce1ea12-8b6c-457f-d016-72bb61df4d7b"
      },
      "outputs": [
        {
          "output_type": "stream",
          "name": "stdout",
          "text": [
            "45.0\n",
            "(array([12, 23, 33, 45, 56, 67, 78, 89]), array([2, 3, 2, 6, 1, 3, 1, 2]))\n",
            "45\n",
            "Median (NumPy): 30.0\n",
            "Mode (NumPy): 40\n",
            "Mode (Pandas): 40\n",
            "Median: 25.0\n",
            "Mode: 25.0\n",
            "Median: 25.0\n",
            "Mode: 26.666666666666664\n"
          ]
        }
      ],
      "source": [
        "#Question1\n",
        "import numpy as np\n",
        "data=[12, 45, 67, 23, 45, 89, 45, 12, 33, 67, 67, 78, 45, 23, 23, 56, 89, 45, 33, 45]\n",
        "median_numpy=np.median(data)\n",
        "print(median_numpy)\n",
        "mode_numpy = np.unique(data,return_counts=True)\n",
        "print(mode_numpy)\n",
        "import pandas as pd\n",
        "mode_pandas = pd.Series(data).mode()[0]\n",
        "print(mode_pandas)\n",
        "\n",
        "#Question2\n",
        "import numpy as np\n",
        "import pandas as pd\n",
        "data = np.array([10, 20, 30, 40, 50])\n",
        "freq = np.array([5, 8, 12, 15, 7])\n",
        "expanded_data = np.repeat(data, freq)\n",
        "median = np.median(expanded_data)\n",
        "values, counts = np.unique(expanded_data, return_counts=True)\n",
        "mode_numpy = values[np.argmax(counts)]\n",
        "df = pd.DataFrame({'Data': expanded_data})\n",
        "mode_pandas = df['Data'].mode()[0]\n",
        "print(\"Median (NumPy):\", median)\n",
        "print(\"Mode (NumPy):\", mode_numpy)\n",
        "print(\"Mode (Pandas):\", mode_pandas)\n",
        "\n",
        "#Question3\n",
        "import numpy as np\n",
        "import pandas as pd\n",
        "class_intervals = [(0,10), (10,20), (20,30), (30,40), (40,50)]\n",
        "Freq = [4, 6, 10, 8, 2]\n",
        "df = pd.DataFrame({'Class Interval': class_intervals, 'Frequency': Freq})\n",
        "df['Cumulative Frequency'] = df['Frequency'].cumsum()\n",
        "N = df['Frequency'].sum()\n",
        "median_index = np.where(df['Cumulative Frequency'] >= (N/2))[0][0]\n",
        "median = (class_intervals[median_index][0] + class_intervals[median_index][1]) / 2\n",
        "mode_index = np.argmax(Freq)\n",
        "mode = (class_intervals[mode_index][0] + class_intervals[mode_index][1]) / 2\n",
        "print(\"Median:\", median)\n",
        "print(\"Mode:\", mode)\n",
        "#UsingFormula\n",
        "median_class_index = (df['Cumulative Frequency'] >= (N / 2)).idxmax()\n",
        "L = class_intervals[median_class_index][0]\n",
        "CF = df['Cumulative Frequency'][median_class_index - 1] if median_class_index > 0 else 0\n",
        "f = df['Frequency'][median_class_index]\n",
        "h = class_intervals[median_class_index][1] - class_intervals[median_class_index][0]\n",
        "median_formula= L + ((N / 2 - CF) / f) * h\n",
        "mode_class_index = np.argmax(Freq)\n",
        "mode_L = class_intervals[mode_class_index][0]\n",
        "f1 = df['Frequency'][mode_class_index]\n",
        "f0 = df['Frequency'][mode_class_index - 1] if mode_class_index > 0 else 0\n",
        "f2 = df['Frequency'][mode_class_index + 1] if mode_class_index < len(Freq) - 1 else 0\n",
        "h = class_intervals[mode_class_index][1] - class_intervals[mode_class_index][0]\n",
        "mode_formula = mode_L + ((f1 - f0) / ((2 * f1) - f0 - f2)) * h\n",
        "print(\"Median:\", median_formula)\n",
        "print(\"Mode:\", mode_formula)\n"
      ]
    }
  ]
}
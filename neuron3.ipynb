{
  "nbformat": 4,
  "nbformat_minor": 0,
  "metadata": {
    "colab": {
      "provenance": [],
      "authorship_tag": "ABX9TyN9EGqMRqfT8FtcLKgaCvI7",
      "include_colab_link": true
    },
    "kernelspec": {
      "name": "python3",
      "display_name": "Python 3"
    },
    "language_info": {
      "name": "python"
    }
  },
  "cells": [
    {
      "cell_type": "markdown",
      "metadata": {
        "id": "view-in-github",
        "colab_type": "text"
      },
      "source": [
        "<a href=\"https://colab.research.google.com/github/Sudhaganisrinidhi/srinidhi/blob/main/neuron3.ipynb\" target=\"_parent\"><img src=\"https://colab.research.google.com/assets/colab-badge.svg\" alt=\"Open In Colab\"/></a>"
      ]
    },
    {
      "cell_type": "code",
      "execution_count": 1,
      "metadata": {
        "colab": {
          "base_uri": "https://localhost:8080/"
        },
        "id": "itwUBW3aAdXi",
        "outputId": "3b088920-ea9a-4735-c2b0-5e2257a36dda"
      },
      "outputs": [
        {
          "output_type": "stream",
          "name": "stdout",
          "text": [
            "[1.01 0.43 1.1 ]\n"
          ]
        }
      ],
      "source": [
        "import numpy as np\n",
        "inputs=np.array([0.1,0.3,1,0.8])\n",
        "weights=np.array([[0.3,0.2,0.1,0.4],\n",
        "                 [0.4,0.1,-0.1,0.2],\n",
        "                 [0.2,-0.2,-0.1,0.8]])\n",
        "bias=np.array([0.5,0.3,0.6])\n",
        "output=np.dot(weights,inputs)+bias\n",
        "print(output)"
      ]
    }
  ]
}
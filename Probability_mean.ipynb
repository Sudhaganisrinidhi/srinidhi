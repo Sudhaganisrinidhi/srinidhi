{
  "nbformat": 4,
  "nbformat_minor": 0,
  "metadata": {
    "colab": {
      "provenance": [],
      "authorship_tag": "ABX9TyPi6eunfTvlNAyZTE/P+fPE",
      "include_colab_link": true
    },
    "kernelspec": {
      "name": "python3",
      "display_name": "Python 3"
    },
    "language_info": {
      "name": "python"
    }
  },
  "cells": [
    {
      "cell_type": "markdown",
      "metadata": {
        "id": "view-in-github",
        "colab_type": "text"
      },
      "source": [
        "<a href=\"https://colab.research.google.com/github/Sudhaganisrinidhi/srinidhi/blob/main/Probability_mean.ipynb\" target=\"_parent\"><img src=\"https://colab.research.google.com/assets/colab-badge.svg\" alt=\"Open In Colab\"/></a>"
      ]
    },
    {
      "cell_type": "code",
      "execution_count": 5,
      "metadata": {
        "colab": {
          "base_uri": "https://localhost:8080/"
        },
        "id": "lq4W-sZ1xh4I",
        "outputId": "3e463142-96f7-4d41-8b38-6d68922daa28"
      },
      "outputs": [
        {
          "output_type": "stream",
          "name": "stdout",
          "text": [
            "Mean of the sample data is: 88.0\n",
            "Mean of the frequency distribution is: 18.24074074074074\n",
            "Mean of the class-interval frequency distribution is: 28.0\n",
            "7\n",
            "Median of the sample data is: 23\n",
            "6\n",
            "7\n",
            "Median of the sample data is: 22.0\n"
          ]
        }
      ],
      "source": [
        "#1st quedtion\n",
        "import numpy as np\n",
        "data=[85,92,78,89,95,87,90]\n",
        "mean=sum(data)/len(data)\n",
        "print(\"Mean of the sample data is:\",mean)\n",
        "\n",
        "import numpy as np\n",
        "#value and their corresponding frequencies\n",
        "values=[15,16,17,18,19,20]\n",
        "frequencies=[2,5,11,9,14,13]\n",
        "#calculate the sum of f+x\n",
        "sum_fx=sum(f*x for f, x in zip(frequencies,values))\n",
        "#calculate the sum of frequencies\n",
        "sum_f=sum(frequencies)\n",
        "#calculate the mean\n",
        "mean=sum_fx/sum_f\n",
        "print(\"Mean of the frequency distribution is:\",mean)\n",
        "\n",
        "import numpy as np\n",
        "class_intervals=[(0,10),(10,20),(20,30),(30,40),(40,50),(50,60)]\n",
        "frequencies=[12,18,27,20,17,6]\n",
        "midpoints=[(start+end)/2 for start,end in class_intervals]\n",
        "sum_fm=sum(f*m for f, m in zip(frequencies,midpoints))\n",
        "sum_f=sum(frequencies)\n",
        "mean=sum_fm/sum_f\n",
        "print(\"Mean of the class-interval frequency distribution is:\",mean)\n",
        "\n",
        "import numpy as np\n",
        "data=[3,13,7,5,21,23,39,23,40,23,14,12,56,23,29]\n",
        "data_sorted=sorted(data)\n",
        "middle_index=len(data_sorted)//2\n",
        "print(middle_index)\n",
        "median=data_sorted[middle_index]\n",
        "print(\"Median of the sample data is:\",median)\n",
        "\n",
        "data=[3,13,7,5,21,23,39,23,40,23,14,12,56,23,29]\n",
        "data_sorted=sorted(data)\n",
        "middle_index1=len(data_sorted)//2-1\n",
        "middle_index2=len(data_sorted)//2\n",
        "print(middle_index1)\n",
        "print(middle_index2)\n",
        "median=(data_sorted[middle_index1]+data_sorted[middle_index2])/2\n",
        "print(\"Median of the sample data is:\",median)\n",
        "\n",
        "class_intervals=[(15,25),(25,35),(35,45),(45,55),(55,65),(65,75)]\n",
        "frequencies=[4,11,19,14,0,2]\n",
        "cumulative_frequencies=[sum(frequencies)]"
      ]
    }
  ]
}